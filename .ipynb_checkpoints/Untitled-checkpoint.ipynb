{
 "cells": [
  {
   "cell_type": "code",
   "execution_count": 1,
   "metadata": {},
   "outputs": [
    {
     "ename": "ValueError",
     "evalue": "numpy.ndarray size changed, may indicate binary incompatibility. Expected 88 from C header, got 80 from PyObject",
     "output_type": "error",
     "traceback": [
      "\u001b[0;31m---------------------------------------------------------------------------\u001b[0m",
      "\u001b[0;31mValueError\u001b[0m                                Traceback (most recent call last)",
      "\u001b[0;32m<ipython-input-1-55bb6090376b>\u001b[0m in \u001b[0;36m<module>\u001b[0;34m\u001b[0m\n\u001b[1;32m     25\u001b[0m     \u001b[0;32mreturn\u001b[0m \u001b[0medged\u001b[0m\u001b[0;34m\u001b[0m\u001b[0;34m\u001b[0m\u001b[0m\n\u001b[1;32m     26\u001b[0m \u001b[0;31m#!pip install pypotrace\u001b[0m\u001b[0;34m\u001b[0m\u001b[0;34m\u001b[0m\u001b[0;34m\u001b[0m\u001b[0m\n\u001b[0;32m---> 27\u001b[0;31m \u001b[0;32mimport\u001b[0m \u001b[0mpotrace\u001b[0m\u001b[0;34m\u001b[0m\u001b[0;34m\u001b[0m\u001b[0m\n\u001b[0m\u001b[1;32m     28\u001b[0m \u001b[0;31m# def get_trace(data):\u001b[0m\u001b[0;34m\u001b[0m\u001b[0;34m\u001b[0m\u001b[0;34m\u001b[0m\u001b[0m\n\u001b[1;32m     29\u001b[0m \u001b[0;31m#     for i in range(len(data)):\u001b[0m\u001b[0;34m\u001b[0m\u001b[0;34m\u001b[0m\u001b[0;34m\u001b[0m\u001b[0m\n",
      "\u001b[0;32m/usr/local/anaconda3/lib/python3.8/site-packages/potrace/__init__.py\u001b[0m in \u001b[0;36m<module>\u001b[0;34m\u001b[0m\n\u001b[0;32m----> 1\u001b[0;31m \u001b[0;32mfrom\u001b[0m \u001b[0mpotrace\u001b[0m\u001b[0;34m.\u001b[0m\u001b[0m_potrace\u001b[0m \u001b[0;32mimport\u001b[0m \u001b[0;34m*\u001b[0m  \u001b[0;31m# NOQA\u001b[0m\u001b[0;34m\u001b[0m\u001b[0;34m\u001b[0m\u001b[0m\n\u001b[0m\u001b[1;32m      2\u001b[0m \u001b[0;34m\u001b[0m\u001b[0m\n\u001b[1;32m      3\u001b[0m \u001b[0;34m\u001b[0m\u001b[0m\n\u001b[1;32m      4\u001b[0m \u001b[0m__version__\u001b[0m \u001b[0;34m=\u001b[0m \u001b[0;34m\"0.2\"\u001b[0m\u001b[0;34m\u001b[0m\u001b[0;34m\u001b[0m\u001b[0m\n",
      "\u001b[0;32m/usr/local/anaconda3/lib/python3.8/site-packages/potrace/_potrace.pyx\u001b[0m in \u001b[0;36minit potrace._potrace\u001b[0;34m()\u001b[0m\n",
      "\u001b[0;31mValueError\u001b[0m: numpy.ndarray size changed, may indicate binary incompatibility. Expected 88 from C header, got 80 from PyObject"
     ]
    }
   ],
   "source": [
    "\n",
    "from PIL import Image\n",
    "import numpy as np\n",
    "import cv2\n",
    "\n",
    "def get_contours(filename = None, image = None, nudge = .33):\n",
    "    if type(image) == type(None):\n",
    "        image = cv2.imread(filename)\n",
    "\n",
    "    gray = cv2.cvtColor(image, cv2.COLOR_BGR2GRAY)\n",
    "    median = max(10, min(245, np.median(gray)))\n",
    "    lower = int(max(0, (1 - nudge) * median))\n",
    "    upper = int(min(255, (1 + nudge) * median))\n",
    "    filtered = cv2.bilateralFilter(gray, 5, 50, 50)\n",
    "    edged = cv2.Canny(filtered, lower, upper, L2gradient = True)\n",
    "\n",
    "    return edged\n",
<<<<<<< HEAD
    "def raise_frame(image):\n",
    "    pass\n",
    "# import potrace\n",
=======
    "\n",
    "#!pip install pypotrace\n",
    "import potrace\n",
>>>>>>> c9e836a01859c1a63cc9b13e7551be069d924ae9
    "# def get_trace(data):\n",
    "#     for i in range(len(data)):\n",
    "#         data[i][data[i] > 1] = 1\n",
    "#     bmp = potrace.Bitmap(data)\n",
    "#     path = bmp.trace(2, potrace.TURNPOLICY_MINORITY, 1.0, 1, .5)\n",
    "#     return path\n"
   ]
  },
  {
   "cell_type": "code",
<<<<<<< HEAD
   "execution_count": 31,
   "id": "5fec90f7",
   "metadata": {
    "scrolled": true
   },
=======
   "execution_count": 16,
   "metadata": {},
>>>>>>> c9e836a01859c1a63cc9b13e7551be069d924ae9
   "outputs": [
    {
     "data": {
      "image/png": "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\n",
      "text/plain": [
       "<Figure size 432x288 with 1 Axes>"
      ]
     },
     "metadata": {
      "needs_background": "light"
     },
     "output_type": "display_data"
    }
   ],
   "source": [
    "import cv2\n",
    "%matplotlib inline\n",
    "import matplotlib.pyplot as plt \n",
    "video = cv2.VideoCapture(\"data/walking.mp4\")\n",
    "_, test_frame = video.read()\n",
<<<<<<< HEAD
    "contour = get_contours(image = test_frame)\n",
    "contour = cv2.blur(contour, (5,5))\n",
    "contour= contour > .25\n",
    "_ = plt.imshow(contour, cmap = \"gray\")"
=======
    "contour = \n",
    "_ = plt.imshow(get_contours(image = test_frame), cmap = \"gray\")"
>>>>>>> c9e836a01859c1a63cc9b13e7551be069d924ae9
   ]
  },
  {
   "cell_type": "code",
<<<<<<< HEAD
   "execution_count": 32,
   "id": "705efc89",
   "metadata": {
    "scrolled": true
   },
=======
   "execution_count": 15,
   "metadata": {},
   "outputs": [
    {
     "ename": "ValueError",
     "evalue": "too many values to unpack (expected 2)",
     "output_type": "error",
     "traceback": [
      "\u001b[0;31m---------------------------------------------------------------------\u001b[0m",
      "\u001b[0;31mValueError\u001b[0m                          Traceback (most recent call last)",
      "\u001b[0;32m<ipython-input-15-0e0b4aa530c5>\u001b[0m in \u001b[0;36m<module>\u001b[0;34m\u001b[0m\n\u001b[1;32m      5\u001b[0m \u001b[0mA\u001b[0m \u001b[0;34m=\u001b[0m \u001b[0mgaussian_filter\u001b[0m\u001b[0;34m(\u001b[0m\u001b[0mtest_frame\u001b[0m\u001b[0;34m,\u001b[0m \u001b[0;36m1\u001b[0m\u001b[0;34m)\u001b[0m  \u001b[0;31m# smoothing\u001b[0m\u001b[0;34m\u001b[0m\u001b[0;34m\u001b[0m\u001b[0m\n\u001b[1;32m      6\u001b[0m \u001b[0;34m\u001b[0m\u001b[0m\n\u001b[0;32m----> 7\u001b[0;31m \u001b[0mnumpy2stl\u001b[0m\u001b[0;34m(\u001b[0m\u001b[0mtest_frame\u001b[0m\u001b[0;34m,\u001b[0m \u001b[0;34m\"Lena.stl\"\u001b[0m\u001b[0;34m,\u001b[0m \u001b[0mscale\u001b[0m\u001b[0;34m=\u001b[0m\u001b[0;36m0.1\u001b[0m\u001b[0;34m,\u001b[0m \u001b[0msolid\u001b[0m\u001b[0;34m=\u001b[0m\u001b[0;32mFalse\u001b[0m\u001b[0;34m)\u001b[0m\u001b[0;34m\u001b[0m\u001b[0;34m\u001b[0m\u001b[0m\n\u001b[0m",
      "\u001b[0;32m/usr/local/anaconda3/lib/python3.8/site-packages/csdt_stl_tools/numpy2stl.py\u001b[0m in \u001b[0;36mnumpy2stl\u001b[0;34m(A, fn, scale, mask_val, ascii, max_width, max_depth, max_height, solid, rotate, min_thickness_percent, force_python)\u001b[0m\n\u001b[1;32m    106\u001b[0m     \"\"\"\n\u001b[1;32m    107\u001b[0m \u001b[0;34m\u001b[0m\u001b[0m\n\u001b[0;32m--> 108\u001b[0;31m     \u001b[0mm\u001b[0m\u001b[0;34m,\u001b[0m \u001b[0mn\u001b[0m \u001b[0;34m=\u001b[0m \u001b[0mA\u001b[0m\u001b[0;34m.\u001b[0m\u001b[0mshape\u001b[0m\u001b[0;34m\u001b[0m\u001b[0;34m\u001b[0m\u001b[0m\n\u001b[0m\u001b[1;32m    109\u001b[0m     \u001b[0;32mif\u001b[0m \u001b[0mn\u001b[0m \u001b[0;34m>=\u001b[0m \u001b[0mm\u001b[0m \u001b[0;32mand\u001b[0m \u001b[0mrotate\u001b[0m\u001b[0;34m:\u001b[0m\u001b[0;34m\u001b[0m\u001b[0;34m\u001b[0m\u001b[0m\n\u001b[1;32m    110\u001b[0m         \u001b[0;31m# rotate to best fit a printing platform\u001b[0m\u001b[0;34m\u001b[0m\u001b[0;34m\u001b[0m\u001b[0;34m\u001b[0m\u001b[0m\n",
      "\u001b[0;31mValueError\u001b[0m: too many values to unpack (expected 2)"
     ]
    }
   ],
   "source": [
    "from csdt_stl_tools import numpy2stl\n",
    "\n",
    "from scipy.ndimage import gaussian_filter\n",
    "\n",
    "A = gaussian_filter(test_frame, 1)  # smoothing\n",
    "\n",
    "numpy2stl(test_frame, \"Lena.stl\", scale=0.1, solid=False)"
   ]
  },
  {
   "cell_type": "code",
   "execution_count": null,
   "metadata": {},
   "outputs": [],
   "source": []
  },
  {
   "cell_type": "code",
   "execution_count": 17,
   "metadata": {},
>>>>>>> c9e836a01859c1a63cc9b13e7551be069d924ae9
   "outputs": [
    {
     "name": "stdout",
     "output_type": "stream",
     "text": [
      "Creating top mesh...\n"
     ]
    }
   ],
   "source": [
    "from stl_tools import numpy2stl\n",
    "\n",
    "from scipy.ndimage import gaussian_filter\n",
    "\n",
    "numpy2stl(contour, \"Lena.stl\", scale=0.1, mask_val = 5.)"
   ]
  },
  {
   "cell_type": "code",
   "execution_count": 14,
   "id": "1f184e9b",
   "metadata": {},
   "outputs": [
    {
     "data": {
      "application/vnd.jupyter.widget-view+json": {
       "model_id": "1c3b2179e8554722ac9e78b94dd5f696",
       "version_major": 2,
       "version_minor": 0
      },
      "text/plain": [
       "Canvas(toolbar=Toolbar(toolitems=[('Home', 'Reset original view', 'home', 'home'), ('Back', 'Back to previous …"
      ]
     },
     "metadata": {},
     "output_type": "display_data"
    }
   ],
   "source": [
    "from stl import mesh\n",
    "from mpl_toolkits import mplot3d\n",
    "from matplotlib import pyplot\n",
    "\n",
    "# Create a new plot\n",
    "figure = pyplot.figure()\n",
    "axes = mplot3d.Axes3D(figure)\n",
    "\n",
    "# Load the STL files and add the vectors to the plot\n",
    "your_mesh = mesh.Mesh.from_file('Lena.stl')\n",
    "axes.add_collection3d(mplot3d.art3d.Poly3DCollection(your_mesh.vectors))\n",
    "\n",
    "# Auto scale to the mesh size\n",
    "scale = your_mesh.points.flatten()\n",
    "axes.auto_scale_xyz(scale, scale, scale)\n",
    "\n",
    "# Show the plot to the screen\n",
    "pyplot.show()"
   ]
  },
  {
   "cell_type": "code",
   "execution_count": null,
   "id": "8a75a650",
   "metadata": {},
   "outputs": [],
   "source": []
  },
  {
   "cell_type": "code",
   "execution_count": null,
   "id": "fae0b9ef",
   "metadata": {},
   "outputs": [],
   "source": []
  },
  {
   "cell_type": "code",
   "execution_count": null,
   "id": "7de55659",
   "metadata": {},
   "outputs": [],
   "source": []
  },
  {
   "cell_type": "code",
   "execution_count": null,
   "id": "44ac6a33",
   "metadata": {},
   "outputs": [],
   "source": []
  }
 ],
 "metadata": {
  "kernelspec": {
   "display_name": "Python 3",
   "language": "python",
   "name": "python3"
  },
  "language_info": {
   "codemirror_mode": {
    "name": "ipython",
    "version": 3
   },
   "file_extension": ".py",
   "mimetype": "text/x-python",
   "name": "python",
   "nbconvert_exporter": "python",
   "pygments_lexer": "ipython3",
   "version": "3.8.8"
  }
 },
 "nbformat": 4,
 "nbformat_minor": 5
}
